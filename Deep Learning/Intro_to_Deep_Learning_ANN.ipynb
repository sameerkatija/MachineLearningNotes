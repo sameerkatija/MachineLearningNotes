{
 "cells": [
  {
   "cell_type": "markdown",
   "id": "5423d0a6",
   "metadata": {},
   "source": [
    "## 1. Importing Libraries"
   ]
  },
  {
   "cell_type": "code",
   "execution_count": 1,
   "id": "dc20b9de",
   "metadata": {},
   "outputs": [],
   "source": [
    "import numpy as np\n",
    "import pandas as pd\n",
    "import tensorflow as tf"
   ]
  },
  {
   "cell_type": "code",
   "execution_count": 2,
   "id": "a3df7905",
   "metadata": {},
   "outputs": [
    {
     "data": {
      "text/plain": [
       "'2.7.0'"
      ]
     },
     "execution_count": 2,
     "metadata": {},
     "output_type": "execute_result"
    }
   ],
   "source": [
    "tf.__version__"
   ]
  },
  {
   "cell_type": "markdown",
   "id": "1794d409",
   "metadata": {},
   "source": [
    "## 2. Data Preprocessing"
   ]
  },
  {
   "cell_type": "markdown",
   "id": "34dd74b5",
   "metadata": {},
   "source": [
    "### Importing the dataset"
   ]
  },
  {
   "cell_type": "code",
   "execution_count": 3,
   "id": "7f6589d7",
   "metadata": {},
   "outputs": [],
   "source": [
    "dataset = pd.read_csv('Churn_Modelling.csv')"
   ]
  },
  {
   "cell_type": "code",
   "execution_count": 4,
   "id": "8ebdc9d5",
   "metadata": {},
   "outputs": [
    {
     "data": {
      "text/html": [
       "<div>\n",
       "<style scoped>\n",
       "    .dataframe tbody tr th:only-of-type {\n",
       "        vertical-align: middle;\n",
       "    }\n",
       "\n",
       "    .dataframe tbody tr th {\n",
       "        vertical-align: top;\n",
       "    }\n",
       "\n",
       "    .dataframe thead th {\n",
       "        text-align: right;\n",
       "    }\n",
       "</style>\n",
       "<table border=\"1\" class=\"dataframe\">\n",
       "  <thead>\n",
       "    <tr style=\"text-align: right;\">\n",
       "      <th></th>\n",
       "      <th>RowNumber</th>\n",
       "      <th>CustomerId</th>\n",
       "      <th>Surname</th>\n",
       "      <th>CreditScore</th>\n",
       "      <th>Geography</th>\n",
       "      <th>Gender</th>\n",
       "      <th>Age</th>\n",
       "      <th>Tenure</th>\n",
       "      <th>Balance</th>\n",
       "      <th>NumOfProducts</th>\n",
       "      <th>HasCrCard</th>\n",
       "      <th>IsActiveMember</th>\n",
       "      <th>EstimatedSalary</th>\n",
       "      <th>Exited</th>\n",
       "    </tr>\n",
       "  </thead>\n",
       "  <tbody>\n",
       "    <tr>\n",
       "      <th>0</th>\n",
       "      <td>1</td>\n",
       "      <td>15634602</td>\n",
       "      <td>Hargrave</td>\n",
       "      <td>619</td>\n",
       "      <td>France</td>\n",
       "      <td>Female</td>\n",
       "      <td>42</td>\n",
       "      <td>2</td>\n",
       "      <td>0.00</td>\n",
       "      <td>1</td>\n",
       "      <td>1</td>\n",
       "      <td>1</td>\n",
       "      <td>101348.88</td>\n",
       "      <td>1</td>\n",
       "    </tr>\n",
       "    <tr>\n",
       "      <th>1</th>\n",
       "      <td>2</td>\n",
       "      <td>15647311</td>\n",
       "      <td>Hill</td>\n",
       "      <td>608</td>\n",
       "      <td>Spain</td>\n",
       "      <td>Female</td>\n",
       "      <td>41</td>\n",
       "      <td>1</td>\n",
       "      <td>83807.86</td>\n",
       "      <td>1</td>\n",
       "      <td>0</td>\n",
       "      <td>1</td>\n",
       "      <td>112542.58</td>\n",
       "      <td>0</td>\n",
       "    </tr>\n",
       "    <tr>\n",
       "      <th>2</th>\n",
       "      <td>3</td>\n",
       "      <td>15619304</td>\n",
       "      <td>Onio</td>\n",
       "      <td>502</td>\n",
       "      <td>France</td>\n",
       "      <td>Female</td>\n",
       "      <td>42</td>\n",
       "      <td>8</td>\n",
       "      <td>159660.80</td>\n",
       "      <td>3</td>\n",
       "      <td>1</td>\n",
       "      <td>0</td>\n",
       "      <td>113931.57</td>\n",
       "      <td>1</td>\n",
       "    </tr>\n",
       "    <tr>\n",
       "      <th>3</th>\n",
       "      <td>4</td>\n",
       "      <td>15701354</td>\n",
       "      <td>Boni</td>\n",
       "      <td>699</td>\n",
       "      <td>France</td>\n",
       "      <td>Female</td>\n",
       "      <td>39</td>\n",
       "      <td>1</td>\n",
       "      <td>0.00</td>\n",
       "      <td>2</td>\n",
       "      <td>0</td>\n",
       "      <td>0</td>\n",
       "      <td>93826.63</td>\n",
       "      <td>0</td>\n",
       "    </tr>\n",
       "    <tr>\n",
       "      <th>4</th>\n",
       "      <td>5</td>\n",
       "      <td>15737888</td>\n",
       "      <td>Mitchell</td>\n",
       "      <td>850</td>\n",
       "      <td>Spain</td>\n",
       "      <td>Female</td>\n",
       "      <td>43</td>\n",
       "      <td>2</td>\n",
       "      <td>125510.82</td>\n",
       "      <td>1</td>\n",
       "      <td>1</td>\n",
       "      <td>1</td>\n",
       "      <td>79084.10</td>\n",
       "      <td>0</td>\n",
       "    </tr>\n",
       "  </tbody>\n",
       "</table>\n",
       "</div>"
      ],
      "text/plain": [
       "   RowNumber  CustomerId   Surname  CreditScore Geography  Gender  Age  \\\n",
       "0          1    15634602  Hargrave          619    France  Female   42   \n",
       "1          2    15647311      Hill          608     Spain  Female   41   \n",
       "2          3    15619304      Onio          502    France  Female   42   \n",
       "3          4    15701354      Boni          699    France  Female   39   \n",
       "4          5    15737888  Mitchell          850     Spain  Female   43   \n",
       "\n",
       "   Tenure    Balance  NumOfProducts  HasCrCard  IsActiveMember  \\\n",
       "0       2       0.00              1          1               1   \n",
       "1       1   83807.86              1          0               1   \n",
       "2       8  159660.80              3          1               0   \n",
       "3       1       0.00              2          0               0   \n",
       "4       2  125510.82              1          1               1   \n",
       "\n",
       "   EstimatedSalary  Exited  \n",
       "0        101348.88       1  \n",
       "1        112542.58       0  \n",
       "2        113931.57       1  \n",
       "3         93826.63       0  \n",
       "4         79084.10       0  "
      ]
     },
     "execution_count": 4,
     "metadata": {},
     "output_type": "execute_result"
    }
   ],
   "source": [
    "dataset.head()"
   ]
  },
  {
   "cell_type": "code",
   "execution_count": 5,
   "id": "a4e3a033",
   "metadata": {},
   "outputs": [],
   "source": [
    "x = X = dataset.iloc[:, 3:-1].values\n",
    "y = dataset.iloc[:, -1].values"
   ]
  },
  {
   "cell_type": "code",
   "execution_count": 7,
   "id": "10f0ce11",
   "metadata": {},
   "outputs": [
    {
     "data": {
      "text/plain": [
       "array([[619, 'France', 'Female', ..., 1, 1, 101348.88],\n",
       "       [608, 'Spain', 'Female', ..., 0, 1, 112542.58],\n",
       "       [502, 'France', 'Female', ..., 1, 0, 113931.57],\n",
       "       ...,\n",
       "       [709, 'France', 'Female', ..., 0, 1, 42085.58],\n",
       "       [772, 'Germany', 'Male', ..., 1, 0, 92888.52],\n",
       "       [792, 'France', 'Female', ..., 1, 0, 38190.78]], dtype=object)"
      ]
     },
     "execution_count": 7,
     "metadata": {},
     "output_type": "execute_result"
    }
   ],
   "source": [
    "x"
   ]
  },
  {
   "cell_type": "code",
   "execution_count": 8,
   "id": "055e4ced",
   "metadata": {},
   "outputs": [
    {
     "data": {
      "text/plain": [
       "array([1, 0, 1, ..., 1, 1, 0], dtype=int64)"
      ]
     },
     "execution_count": 8,
     "metadata": {},
     "output_type": "execute_result"
    }
   ],
   "source": [
    "y"
   ]
  },
  {
   "cell_type": "markdown",
   "id": "c3e3fbd1",
   "metadata": {},
   "source": [
    "### Encoding Catagorical Data"
   ]
  },
  {
   "cell_type": "markdown",
   "id": "f57ca3bf",
   "metadata": {},
   "source": [
    "**Label Encoding the gender column**"
   ]
  },
  {
   "cell_type": "code",
   "execution_count": 15,
   "id": "7995ad06",
   "metadata": {},
   "outputs": [
    {
     "data": {
      "text/plain": [
       "array(['Female', 'Female', 'Female', ..., 'Female', 'Male', 'Female'],\n",
       "      dtype=object)"
      ]
     },
     "execution_count": 15,
     "metadata": {},
     "output_type": "execute_result"
    }
   ],
   "source": [
    "X[:,2]"
   ]
  },
  {
   "cell_type": "code",
   "execution_count": 16,
   "id": "0abe2f57",
   "metadata": {},
   "outputs": [],
   "source": [
    "from sklearn.preprocessing import LabelEncoder\n",
    "le = LabelEncoder()\n",
    "X[:, 2] = le.fit_transform(X[:, 2])"
   ]
  },
  {
   "cell_type": "code",
   "execution_count": 17,
   "id": "30093722",
   "metadata": {},
   "outputs": [
    {
     "data": {
      "text/plain": [
       "array([0, 0, 0, ..., 0, 1, 0], dtype=object)"
      ]
     },
     "execution_count": 17,
     "metadata": {},
     "output_type": "execute_result"
    }
   ],
   "source": [
    "X[:,2]"
   ]
  },
  {
   "cell_type": "markdown",
   "id": "6acc57e2",
   "metadata": {},
   "source": [
    "**One Hot Encoding for gerography column**"
   ]
  },
  {
   "cell_type": "code",
   "execution_count": 18,
   "id": "a46d2e87",
   "metadata": {},
   "outputs": [],
   "source": [
    "from sklearn.compose import ColumnTransformer\n",
    "from sklearn.preprocessing import OneHotEncoder\n",
    "ct = ColumnTransformer(transformers=[('encoder', OneHotEncoder(), [1])], remainder='passthrough')\n",
    "X = np.array(ct.fit_transform(X))"
   ]
  },
  {
   "cell_type": "code",
   "execution_count": 19,
   "id": "5d61c4b6",
   "metadata": {},
   "outputs": [
    {
     "data": {
      "text/plain": [
       "array([[1.0, 0.0, 0.0, ..., 1, 1, 101348.88],\n",
       "       [0.0, 0.0, 1.0, ..., 0, 1, 112542.58],\n",
       "       [1.0, 0.0, 0.0, ..., 1, 0, 113931.57],\n",
       "       ...,\n",
       "       [1.0, 0.0, 0.0, ..., 0, 1, 42085.58],\n",
       "       [0.0, 1.0, 0.0, ..., 1, 0, 92888.52],\n",
       "       [1.0, 0.0, 0.0, ..., 1, 0, 38190.78]], dtype=object)"
      ]
     },
     "execution_count": 19,
     "metadata": {},
     "output_type": "execute_result"
    }
   ],
   "source": [
    "X"
   ]
  },
  {
   "cell_type": "markdown",
   "id": "a8e77b1c",
   "metadata": {},
   "source": [
    "### Splitting the dataset into the Training set and Test set"
   ]
  },
  {
   "cell_type": "code",
   "execution_count": 20,
   "id": "da58027e",
   "metadata": {},
   "outputs": [],
   "source": [
    "from sklearn.model_selection import train_test_split\n",
    "X_train, X_test, y_train, y_test = train_test_split(X, y, test_size = 0.2, random_state = 0)"
   ]
  },
  {
   "cell_type": "markdown",
   "id": "c503b135",
   "metadata": {},
   "source": [
    "### Feature Scaling"
   ]
  },
  {
   "cell_type": "code",
   "execution_count": 22,
   "id": "f3b642e6",
   "metadata": {},
   "outputs": [],
   "source": [
    "from sklearn.preprocessing import StandardScaler\n",
    "sc = StandardScaler()\n",
    "X_train = sc.fit_transform(X_train)\n",
    "X_test = sc.transform(X_test)"
   ]
  },
  {
   "cell_type": "markdown",
   "id": "1731a3f9",
   "metadata": {},
   "source": [
    "## 3. Building the ANN (Artifical Neural Network)"
   ]
  },
  {
   "cell_type": "markdown",
   "id": "d96eec06",
   "metadata": {},
   "source": [
    "### 1. Initializing the ANN"
   ]
  },
  {
   "cell_type": "code",
   "execution_count": 24,
   "id": "bf5975f6",
   "metadata": {},
   "outputs": [],
   "source": [
    "ann = tf.keras.models.Sequential()"
   ]
  },
  {
   "cell_type": "markdown",
   "id": "434a5a49",
   "metadata": {},
   "source": [
    "### 2. Adding the input layer and the first hidden layer"
   ]
  },
  {
   "cell_type": "code",
   "execution_count": 25,
   "id": "72081748",
   "metadata": {},
   "outputs": [],
   "source": [
    "ann.add(tf.keras.layers.Dense(units=6, activation='relu'))"
   ]
  },
  {
   "cell_type": "markdown",
   "id": "66636437",
   "metadata": {},
   "source": [
    "### 3. Adding the second hidden layer"
   ]
  },
  {
   "cell_type": "code",
   "execution_count": 26,
   "id": "cc0f7220",
   "metadata": {},
   "outputs": [],
   "source": [
    "ann.add(tf.keras.layers.Dense(units=6, activation='relu'))"
   ]
  },
  {
   "cell_type": "markdown",
   "id": "114fe66f",
   "metadata": {},
   "source": [
    "### 4. Adding the output layer"
   ]
  },
  {
   "cell_type": "code",
   "execution_count": 27,
   "id": "50611fff",
   "metadata": {},
   "outputs": [],
   "source": [
    "ann.add(tf.keras.layers.Dense(units=1, activation='sigmoid'))"
   ]
  },
  {
   "cell_type": "markdown",
   "id": "60aebb90",
   "metadata": {},
   "source": [
    "## Training the ANN"
   ]
  },
  {
   "cell_type": "markdown",
   "id": "f39b528a",
   "metadata": {},
   "source": [
    "### 1. Compiling the ANN"
   ]
  },
  {
   "cell_type": "code",
   "execution_count": 28,
   "id": "01f7b53c",
   "metadata": {},
   "outputs": [],
   "source": [
    "ann.compile(optimizer='adam', loss='binary_crossentropy', metrics=['accuracy'])"
   ]
  },
  {
   "cell_type": "markdown",
   "id": "6ef5799a",
   "metadata": {},
   "source": [
    "### 2. Training the ANN on the Training set"
   ]
  },
  {
   "cell_type": "code",
   "execution_count": 29,
   "id": "e233e1c6",
   "metadata": {},
   "outputs": [
    {
     "name": "stdout",
     "output_type": "stream",
     "text": [
      "Epoch 1/100\n",
      "250/250 [==============================] - 14s 6ms/step - loss: 0.6221 - accuracy: 0.7066\n",
      "Epoch 2/100\n",
      "250/250 [==============================] - 1s 5ms/step - loss: 0.4779 - accuracy: 0.7989\n",
      "Epoch 3/100\n",
      "250/250 [==============================] - 1s 5ms/step - loss: 0.4428 - accuracy: 0.8130: 0s - loss: 0\n",
      "Epoch 4/100\n",
      "250/250 [==============================] - 1s 5ms/step - loss: 0.4308 - accuracy: 0.8170\n",
      "Epoch 5/100\n",
      "250/250 [==============================] - 2s 6ms/step - loss: 0.4239 - accuracy: 0.8191\n",
      "Epoch 6/100\n",
      "250/250 [==============================] - 1s 6ms/step - loss: 0.4192 - accuracy: 0.8204\n",
      "Epoch 7/100\n",
      "250/250 [==============================] - 1s 6ms/step - loss: 0.4142 - accuracy: 0.8241\n",
      "Epoch 8/100\n",
      "250/250 [==============================] - 1s 5ms/step - loss: 0.4082 - accuracy: 0.8267\n",
      "Epoch 9/100\n",
      "250/250 [==============================] - 1s 6ms/step - loss: 0.4018 - accuracy: 0.8296\n",
      "Epoch 10/100\n",
      "250/250 [==============================] - 1s 5ms/step - loss: 0.3936 - accuracy: 0.8367\n",
      "Epoch 11/100\n",
      "250/250 [==============================] - 1s 6ms/step - loss: 0.3844 - accuracy: 0.8429\n",
      "Epoch 12/100\n",
      "250/250 [==============================] - 1s 6ms/step - loss: 0.3751 - accuracy: 0.8471\n",
      "Epoch 13/100\n",
      "250/250 [==============================] - 1s 5ms/step - loss: 0.3669 - accuracy: 0.8531\n",
      "Epoch 14/100\n",
      "250/250 [==============================] - 1s 6ms/step - loss: 0.3616 - accuracy: 0.8543\n",
      "Epoch 15/100\n",
      "250/250 [==============================] - 1s 5ms/step - loss: 0.3573 - accuracy: 0.8556\n",
      "Epoch 16/100\n",
      "250/250 [==============================] - 1s 5ms/step - loss: 0.3544 - accuracy: 0.8566\n",
      "Epoch 17/100\n",
      "250/250 [==============================] - 1s 5ms/step - loss: 0.3518 - accuracy: 0.8564\n",
      "Epoch 18/100\n",
      "250/250 [==============================] - 1s 5ms/step - loss: 0.3506 - accuracy: 0.8580\n",
      "Epoch 19/100\n",
      "250/250 [==============================] - 1s 5ms/step - loss: 0.3495 - accuracy: 0.8583\n",
      "Epoch 20/100\n",
      "250/250 [==============================] - 1s 5ms/step - loss: 0.3482 - accuracy: 0.8590\n",
      "Epoch 21/100\n",
      "250/250 [==============================] - 1s 5ms/step - loss: 0.3476 - accuracy: 0.8571\n",
      "Epoch 22/100\n",
      "250/250 [==============================] - 1s 5ms/step - loss: 0.3462 - accuracy: 0.8597\n",
      "Epoch 23/100\n",
      "250/250 [==============================] - 1s 5ms/step - loss: 0.3456 - accuracy: 0.8581\n",
      "Epoch 24/100\n",
      "250/250 [==============================] - 1s 5ms/step - loss: 0.3450 - accuracy: 0.8576\n",
      "Epoch 25/100\n",
      "250/250 [==============================] - 1s 5ms/step - loss: 0.3445 - accuracy: 0.8593\n",
      "Epoch 26/100\n",
      "250/250 [==============================] - 1s 5ms/step - loss: 0.3437 - accuracy: 0.8593\n",
      "Epoch 27/100\n",
      "250/250 [==============================] - 1s 5ms/step - loss: 0.3435 - accuracy: 0.8591\n",
      "Epoch 28/100\n",
      "250/250 [==============================] - 1s 5ms/step - loss: 0.3429 - accuracy: 0.8600\n",
      "Epoch 29/100\n",
      "250/250 [==============================] - 1s 5ms/step - loss: 0.3427 - accuracy: 0.8600\n",
      "Epoch 30/100\n",
      "250/250 [==============================] - 1s 5ms/step - loss: 0.3422 - accuracy: 0.8616\n",
      "Epoch 31/100\n",
      "250/250 [==============================] - 1s 5ms/step - loss: 0.3420 - accuracy: 0.8600\n",
      "Epoch 32/100\n",
      "250/250 [==============================] - 1s 5ms/step - loss: 0.3420 - accuracy: 0.8597\n",
      "Epoch 33/100\n",
      "250/250 [==============================] - 1s 5ms/step - loss: 0.3417 - accuracy: 0.8601\n",
      "Epoch 34/100\n",
      "250/250 [==============================] - 1s 5ms/step - loss: 0.3414 - accuracy: 0.8605\n",
      "Epoch 35/100\n",
      "250/250 [==============================] - 1s 5ms/step - loss: 0.3408 - accuracy: 0.8600\n",
      "Epoch 36/100\n",
      "250/250 [==============================] - 1s 5ms/step - loss: 0.3407 - accuracy: 0.8602\n",
      "Epoch 37/100\n",
      "250/250 [==============================] - 1s 5ms/step - loss: 0.3405 - accuracy: 0.8611\n",
      "Epoch 38/100\n",
      "250/250 [==============================] - 1s 5ms/step - loss: 0.3402 - accuracy: 0.8611\n",
      "Epoch 39/100\n",
      "250/250 [==============================] - 1s 5ms/step - loss: 0.3402 - accuracy: 0.8609\n",
      "Epoch 40/100\n",
      "250/250 [==============================] - 1s 5ms/step - loss: 0.3402 - accuracy: 0.8606\n",
      "Epoch 41/100\n",
      "250/250 [==============================] - 1s 5ms/step - loss: 0.3398 - accuracy: 0.8597\n",
      "Epoch 42/100\n",
      "250/250 [==============================] - 1s 6ms/step - loss: 0.3396 - accuracy: 0.8616\n",
      "Epoch 43/100\n",
      "250/250 [==============================] - 1s 5ms/step - loss: 0.3394 - accuracy: 0.8615\n",
      "Epoch 44/100\n",
      "250/250 [==============================] - 1s 6ms/step - loss: 0.3394 - accuracy: 0.8612\n",
      "Epoch 45/100\n",
      "250/250 [==============================] - 1s 5ms/step - loss: 0.3391 - accuracy: 0.8609\n",
      "Epoch 46/100\n",
      "250/250 [==============================] - 1s 5ms/step - loss: 0.3389 - accuracy: 0.8609\n",
      "Epoch 47/100\n",
      "250/250 [==============================] - 1s 5ms/step - loss: 0.3390 - accuracy: 0.8619\n",
      "Epoch 48/100\n",
      "250/250 [==============================] - 1s 5ms/step - loss: 0.3384 - accuracy: 0.8609\n",
      "Epoch 49/100\n",
      "250/250 [==============================] - 1s 5ms/step - loss: 0.3388 - accuracy: 0.8606\n",
      "Epoch 50/100\n",
      "250/250 [==============================] - 1s 5ms/step - loss: 0.3384 - accuracy: 0.8620\n",
      "Epoch 51/100\n",
      "250/250 [==============================] - 1s 5ms/step - loss: 0.3383 - accuracy: 0.8620\n",
      "Epoch 52/100\n",
      "250/250 [==============================] - 1s 5ms/step - loss: 0.3379 - accuracy: 0.8602\n",
      "Epoch 53/100\n",
      "250/250 [==============================] - 1s 5ms/step - loss: 0.3381 - accuracy: 0.8627\n",
      "Epoch 54/100\n",
      "250/250 [==============================] - 1s 5ms/step - loss: 0.3378 - accuracy: 0.8618\n",
      "Epoch 55/100\n",
      "250/250 [==============================] - 1s 5ms/step - loss: 0.3378 - accuracy: 0.8619\n",
      "Epoch 56/100\n",
      "250/250 [==============================] - 1s 6ms/step - loss: 0.3377 - accuracy: 0.8620\n",
      "Epoch 57/100\n",
      "250/250 [==============================] - 1s 5ms/step - loss: 0.3376 - accuracy: 0.8622\n",
      "Epoch 58/100\n",
      "250/250 [==============================] - 1s 5ms/step - loss: 0.3377 - accuracy: 0.8611\n",
      "Epoch 59/100\n",
      "250/250 [==============================] - 1s 5ms/step - loss: 0.3370 - accuracy: 0.8615\n",
      "Epoch 60/100\n",
      "250/250 [==============================] - 1s 5ms/step - loss: 0.3376 - accuracy: 0.8612\n",
      "Epoch 61/100\n",
      "250/250 [==============================] - 2s 7ms/step - loss: 0.3373 - accuracy: 0.8622\n",
      "Epoch 62/100\n",
      "250/250 [==============================] - 1s 4ms/step - loss: 0.3372 - accuracy: 0.8608\n",
      "Epoch 63/100\n",
      "250/250 [==============================] - 1s 4ms/step - loss: 0.3371 - accuracy: 0.8615: 0s - loss: 0.3403 - accuracy: 0.\n",
      "Epoch 64/100\n",
      "250/250 [==============================] - 1s 4ms/step - loss: 0.3368 - accuracy: 0.8611\n",
      "Epoch 65/100\n",
      "250/250 [==============================] - 1s 4ms/step - loss: 0.3366 - accuracy: 0.8619\n",
      "Epoch 66/100\n",
      "250/250 [==============================] - 1s 4ms/step - loss: 0.3367 - accuracy: 0.8616\n",
      "Epoch 67/100\n",
      "250/250 [==============================] - 1s 5ms/step - loss: 0.3366 - accuracy: 0.8640\n",
      "Epoch 68/100\n",
      "250/250 [==============================] - 1s 5ms/step - loss: 0.3365 - accuracy: 0.8621\n",
      "Epoch 69/100\n",
      "250/250 [==============================] - 1s 5ms/step - loss: 0.3368 - accuracy: 0.8616\n",
      "Epoch 70/100\n",
      "250/250 [==============================] - 1s 5ms/step - loss: 0.3363 - accuracy: 0.8610\n",
      "Epoch 71/100\n",
      "250/250 [==============================] - 1s 5ms/step - loss: 0.3364 - accuracy: 0.8615\n",
      "Epoch 72/100\n",
      "250/250 [==============================] - 1s 5ms/step - loss: 0.3366 - accuracy: 0.8619\n",
      "Epoch 73/100\n",
      "250/250 [==============================] - 1s 5ms/step - loss: 0.3363 - accuracy: 0.8636\n",
      "Epoch 74/100\n",
      "250/250 [==============================] - 1s 5ms/step - loss: 0.3366 - accuracy: 0.8611\n",
      "Epoch 75/100\n",
      "250/250 [==============================] - 1s 6ms/step - loss: 0.3357 - accuracy: 0.8646\n",
      "Epoch 76/100\n",
      "250/250 [==============================] - 2s 6ms/step - loss: 0.3364 - accuracy: 0.8634\n",
      "Epoch 77/100\n",
      "250/250 [==============================] - 1s 5ms/step - loss: 0.3363 - accuracy: 0.8621\n",
      "Epoch 78/100\n",
      "250/250 [==============================] - 1s 6ms/step - loss: 0.3362 - accuracy: 0.8618\n",
      "Epoch 79/100\n",
      "250/250 [==============================] - 2s 7ms/step - loss: 0.3360 - accuracy: 0.8631: 0s - loss: 0.3345 - \n",
      "Epoch 80/100\n"
     ]
    },
    {
     "name": "stdout",
     "output_type": "stream",
     "text": [
      "250/250 [==============================] - 2s 6ms/step - loss: 0.3364 - accuracy: 0.8614\n",
      "Epoch 81/100\n",
      "250/250 [==============================] - 1s 6ms/step - loss: 0.3360 - accuracy: 0.8634\n",
      "Epoch 82/100\n",
      "250/250 [==============================] - 1s 6ms/step - loss: 0.3364 - accuracy: 0.8616\n",
      "Epoch 83/100\n",
      "250/250 [==============================] - 1s 5ms/step - loss: 0.3361 - accuracy: 0.8624\n",
      "Epoch 84/100\n",
      "250/250 [==============================] - 1s 5ms/step - loss: 0.3360 - accuracy: 0.8631\n",
      "Epoch 85/100\n",
      "250/250 [==============================] - 1s 5ms/step - loss: 0.3362 - accuracy: 0.8610\n",
      "Epoch 86/100\n",
      "250/250 [==============================] - 1s 5ms/step - loss: 0.3358 - accuracy: 0.8626\n",
      "Epoch 87/100\n",
      "250/250 [==============================] - 1s 5ms/step - loss: 0.3361 - accuracy: 0.8621\n",
      "Epoch 88/100\n",
      "250/250 [==============================] - 1s 5ms/step - loss: 0.3357 - accuracy: 0.8622\n",
      "Epoch 89/100\n",
      "250/250 [==============================] - 1s 5ms/step - loss: 0.3358 - accuracy: 0.8615\n",
      "Epoch 90/100\n",
      "250/250 [==============================] - 1s 5ms/step - loss: 0.3362 - accuracy: 0.8615\n",
      "Epoch 91/100\n",
      "250/250 [==============================] - 1s 5ms/step - loss: 0.3361 - accuracy: 0.8626\n",
      "Epoch 92/100\n",
      "250/250 [==============================] - 1s 6ms/step - loss: 0.3360 - accuracy: 0.8634\n",
      "Epoch 93/100\n",
      "250/250 [==============================] - 1s 6ms/step - loss: 0.3363 - accuracy: 0.8615\n",
      "Epoch 94/100\n",
      "250/250 [==============================] - 2s 6ms/step - loss: 0.3356 - accuracy: 0.8634\n",
      "Epoch 95/100\n",
      "250/250 [==============================] - 2s 6ms/step - loss: 0.3360 - accuracy: 0.8633\n",
      "Epoch 96/100\n",
      "250/250 [==============================] - 2s 6ms/step - loss: 0.3360 - accuracy: 0.8624\n",
      "Epoch 97/100\n",
      "250/250 [==============================] - 2s 6ms/step - loss: 0.3360 - accuracy: 0.8625\n",
      "Epoch 98/100\n",
      "250/250 [==============================] - 1s 6ms/step - loss: 0.3358 - accuracy: 0.8627\n",
      "Epoch 99/100\n",
      "250/250 [==============================] - 1s 5ms/step - loss: 0.3363 - accuracy: 0.8639: 0s - loss: 0.3367 - accuracy: \n",
      "Epoch 100/100\n",
      "250/250 [==============================] - 1s 5ms/step - loss: 0.3357 - accuracy: 0.8620\n"
     ]
    },
    {
     "data": {
      "text/plain": [
       "<keras.callbacks.History at 0x1e8df3ab9d0>"
      ]
     },
     "execution_count": 29,
     "metadata": {},
     "output_type": "execute_result"
    }
   ],
   "source": [
    "ann.fit(X_train, y_train, batch_size = 32, epochs = 100)"
   ]
  },
  {
   "cell_type": "markdown",
   "id": "4101d54b",
   "metadata": {},
   "source": [
    "## Making the predictions and evaluating the model"
   ]
  },
  {
   "cell_type": "markdown",
   "id": "a0523622",
   "metadata": {},
   "source": [
    "### Predicting the result of a single observation"
   ]
  },
  {
   "cell_type": "code",
   "execution_count": 30,
   "id": "78fbf13f",
   "metadata": {},
   "outputs": [
    {
     "name": "stdout",
     "output_type": "stream",
     "text": [
      "[[False]]\n"
     ]
    }
   ],
   "source": [
    "print(ann.predict(sc.transform([[1, 0, 0, 600, 1, 40, 3, 60000, 2, 1, 1, 50000]])) > 0.5)"
   ]
  },
  {
   "cell_type": "markdown",
   "id": "295e5384",
   "metadata": {},
   "source": [
    "### Predicting the Test set results"
   ]
  },
  {
   "cell_type": "code",
   "execution_count": 31,
   "id": "71fc125c",
   "metadata": {},
   "outputs": [
    {
     "name": "stdout",
     "output_type": "stream",
     "text": [
      "[[0 0]\n",
      " [0 1]\n",
      " [0 0]\n",
      " ...\n",
      " [0 0]\n",
      " [0 0]\n",
      " [0 0]]\n"
     ]
    }
   ],
   "source": [
    "y_pred = ann.predict(X_test)\n",
    "y_pred = (y_pred > 0.5)\n",
    "print(np.concatenate((y_pred.reshape(len(y_pred),1), y_test.reshape(len(y_test),1)),1))"
   ]
  },
  {
   "cell_type": "markdown",
   "id": "f3659557",
   "metadata": {},
   "source": [
    "### Making the Confusion Matrix"
   ]
  },
  {
   "cell_type": "code",
   "execution_count": 32,
   "id": "4ab6f736",
   "metadata": {},
   "outputs": [
    {
     "name": "stdout",
     "output_type": "stream",
     "text": [
      "[[1509   86]\n",
      " [ 190  215]]\n"
     ]
    },
    {
     "data": {
      "text/plain": [
       "0.862"
      ]
     },
     "execution_count": 32,
     "metadata": {},
     "output_type": "execute_result"
    }
   ],
   "source": [
    "from sklearn.metrics import confusion_matrix, accuracy_score\n",
    "cm = confusion_matrix(y_test, y_pred)\n",
    "print(cm)\n",
    "accuracy_score(y_test, y_pred)"
   ]
  },
  {
   "cell_type": "code",
   "execution_count": null,
   "id": "5425de9b",
   "metadata": {},
   "outputs": [],
   "source": []
  }
 ],
 "metadata": {
  "kernelspec": {
   "display_name": "Python 3",
   "language": "python",
   "name": "python3"
  },
  "language_info": {
   "codemirror_mode": {
    "name": "ipython",
    "version": 3
   },
   "file_extension": ".py",
   "mimetype": "text/x-python",
   "name": "python",
   "nbconvert_exporter": "python",
   "pygments_lexer": "ipython3",
   "version": "3.8.8"
  }
 },
 "nbformat": 4,
 "nbformat_minor": 5
}

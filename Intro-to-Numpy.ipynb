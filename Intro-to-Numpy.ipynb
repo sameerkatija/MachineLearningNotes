{
 "cells": [
  {
   "cell_type": "markdown",
   "id": "1a74d025",
   "metadata": {},
   "source": [
    "# Introduction to Numpy (Numerical Python)"
   ]
  },
  {
   "cell_type": "markdown",
   "id": "8457f082",
   "metadata": {},
   "source": [
    "**Note: Numpy is considered as the backbone of data science, machine learning and numerical python**"
   ]
  },
  {
   "cell_type": "markdown",
   "id": "0886c63e",
   "metadata": {},
   "source": [
    "## Why Numpy ?\n",
    "- It's fast\n",
    "- Behind the scenes optimizations written in C\n",
    "- Vectorization via broadcasting (avoiding loops)\n",
    "- Backbone of other Python scientific packages"
   ]
  },
  {
   "cell_type": "markdown",
   "id": "64cd861d",
   "metadata": {},
   "source": [
    "## What are we going to cover?\n",
    "- Most useful functions\n",
    "- NumPy datatypes & attributes (ndarray)\n",
    "- Creating arrays\n",
    "- Viewing arrays & matrices\n",
    "- Manipulating & comparing arrays\n",
    "- Sorting arrays\n",
    "- Use cases"
   ]
  },
  {
   "cell_type": "markdown",
   "id": "3ff01c78",
   "metadata": {},
   "source": [
    "## Anatomy of a Numpy Array \n",
    "![Anatomy of a Numpy Array ](https://cdn.fs.teachablecdn.com/ADNupMnWyR7kCWRvm76Laz/resize=width:1500/https://www.filepicker.io/api/file/wiL4GtSsS5uqS5pAqpbS)"
   ]
  },
  {
   "cell_type": "markdown",
   "id": "3f5b8f0f",
   "metadata": {},
   "source": [
    "### Importing Numpy "
   ]
  },
  {
   "cell_type": "code",
   "execution_count": 1,
   "id": "3d632b5d",
   "metadata": {},
   "outputs": [],
   "source": [
    "import numpy as np"
   ]
  },
  {
   "cell_type": "markdown",
   "id": "5e091fa2",
   "metadata": {},
   "source": [
    "### DataType & Attributes"
   ]
  },
  {
   "cell_type": "code",
   "execution_count": 2,
   "id": "b9d858cb",
   "metadata": {},
   "outputs": [],
   "source": [
    "# NumPy's main datatype is ndarray\n",
    "a1 = np.array([1,2,3])"
   ]
  },
  {
   "cell_type": "code",
   "execution_count": 3,
   "id": "e9200c14",
   "metadata": {},
   "outputs": [
    {
     "data": {
      "text/plain": [
       "numpy.ndarray"
      ]
     },
     "execution_count": 3,
     "metadata": {},
     "output_type": "execute_result"
    }
   ],
   "source": [
    "# To see the type of a1\n",
    "type(a1)"
   ]
  },
  {
   "cell_type": "code",
   "execution_count": 4,
   "id": "946ec9bc",
   "metadata": {},
   "outputs": [],
   "source": [
    "a2 = np.array([[1,2,3],[44,5,3]])"
   ]
  },
  {
   "cell_type": "code",
   "execution_count": 5,
   "id": "b773822e",
   "metadata": {},
   "outputs": [],
   "source": [
    "# n dimension array: n can be any number\n",
    "a3 = np.array([[[1,2,3], [2,3,4]],[[2,3,4],[2,3,4]]])"
   ]
  },
  {
   "cell_type": "code",
   "execution_count": 6,
   "id": "f2d0b964",
   "metadata": {},
   "outputs": [
    {
     "data": {
      "text/plain": [
       "array([[[1, 2, 3],\n",
       "        [2, 3, 4]],\n",
       "\n",
       "       [[2, 3, 4],\n",
       "        [2, 3, 4]]])"
      ]
     },
     "execution_count": 6,
     "metadata": {},
     "output_type": "execute_result"
    }
   ],
   "source": [
    "a3"
   ]
  },
  {
   "cell_type": "markdown",
   "id": "ef698dc6",
   "metadata": {},
   "source": [
    "### Shape of Array"
   ]
  },
  {
   "cell_type": "code",
   "execution_count": 7,
   "id": "af3f2c66",
   "metadata": {},
   "outputs": [
    {
     "data": {
      "text/plain": [
       "(3,)"
      ]
     },
     "execution_count": 7,
     "metadata": {},
     "output_type": "execute_result"
    }
   ],
   "source": [
    "a1.shape"
   ]
  },
  {
   "cell_type": "code",
   "execution_count": 8,
   "id": "e7e434c2",
   "metadata": {},
   "outputs": [
    {
     "data": {
      "text/plain": [
       "(2, 3)"
      ]
     },
     "execution_count": 8,
     "metadata": {},
     "output_type": "execute_result"
    }
   ],
   "source": [
    "a2.shape"
   ]
  },
  {
   "cell_type": "code",
   "execution_count": 9,
   "id": "62b4317d",
   "metadata": {},
   "outputs": [
    {
     "data": {
      "text/plain": [
       "(2, 2, 3)"
      ]
     },
     "execution_count": 9,
     "metadata": {},
     "output_type": "execute_result"
    }
   ],
   "source": [
    "a3.shape"
   ]
  },
  {
   "cell_type": "markdown",
   "id": "91aa95b1",
   "metadata": {},
   "source": [
    "### Dimension of arrays"
   ]
  },
  {
   "cell_type": "code",
   "execution_count": 10,
   "id": "971d49d8",
   "metadata": {},
   "outputs": [
    {
     "data": {
      "text/plain": [
       "(1, 2, 3)"
      ]
     },
     "execution_count": 10,
     "metadata": {},
     "output_type": "execute_result"
    }
   ],
   "source": [
    "a1.ndim , a2.ndim , a3.ndim # Refers to n dimesions in an array"
   ]
  },
  {
   "cell_type": "markdown",
   "id": "551a4111",
   "metadata": {},
   "source": [
    "### Data types of the array"
   ]
  },
  {
   "cell_type": "code",
   "execution_count": 11,
   "id": "8e116aaf",
   "metadata": {},
   "outputs": [
    {
     "data": {
      "text/plain": [
       "(1, 2, 3)"
      ]
     },
     "execution_count": 11,
     "metadata": {},
     "output_type": "execute_result"
    }
   ],
   "source": [
    "a1.ndim , a2.ndim , a3.ndim "
   ]
  },
  {
   "cell_type": "markdown",
   "id": "d3519131",
   "metadata": {},
   "source": [
    "### Size of the array"
   ]
  },
  {
   "cell_type": "code",
   "execution_count": 12,
   "id": "44383040",
   "metadata": {},
   "outputs": [
    {
     "data": {
      "text/plain": [
       "(3, 6, 12)"
      ]
     },
     "execution_count": 12,
     "metadata": {},
     "output_type": "execute_result"
    }
   ],
   "source": [
    "a1.size , a2.size , a3.size "
   ]
  },
  {
   "cell_type": "markdown",
   "id": "c0e87302",
   "metadata": {},
   "source": [
    "### Type of array"
   ]
  },
  {
   "cell_type": "code",
   "execution_count": 13,
   "id": "61fc9e52",
   "metadata": {},
   "outputs": [
    {
     "data": {
      "text/plain": [
       "(numpy.ndarray, numpy.ndarray, numpy.ndarray)"
      ]
     },
     "execution_count": 13,
     "metadata": {},
     "output_type": "execute_result"
    }
   ],
   "source": [
    "type(a1), type(a2), type(a3)"
   ]
  },
  {
   "cell_type": "markdown",
   "id": "beecaf57",
   "metadata": {},
   "source": [
    "## Creating the Pandas data from numpy 2D-array"
   ]
  },
  {
   "cell_type": "code",
   "execution_count": 14,
   "id": "fc7b3159",
   "metadata": {},
   "outputs": [],
   "source": [
    "import pandas as pd"
   ]
  },
  {
   "cell_type": "code",
   "execution_count": 15,
   "id": "9bf01d61",
   "metadata": {},
   "outputs": [],
   "source": [
    "data = pd.DataFrame(a2)"
   ]
  },
  {
   "cell_type": "code",
   "execution_count": 16,
   "id": "d6696860",
   "metadata": {},
   "outputs": [
    {
     "data": {
      "text/html": [
       "<div>\n",
       "<style scoped>\n",
       "    .dataframe tbody tr th:only-of-type {\n",
       "        vertical-align: middle;\n",
       "    }\n",
       "\n",
       "    .dataframe tbody tr th {\n",
       "        vertical-align: top;\n",
       "    }\n",
       "\n",
       "    .dataframe thead th {\n",
       "        text-align: right;\n",
       "    }\n",
       "</style>\n",
       "<table border=\"1\" class=\"dataframe\">\n",
       "  <thead>\n",
       "    <tr style=\"text-align: right;\">\n",
       "      <th></th>\n",
       "      <th>0</th>\n",
       "      <th>1</th>\n",
       "      <th>2</th>\n",
       "    </tr>\n",
       "  </thead>\n",
       "  <tbody>\n",
       "    <tr>\n",
       "      <th>0</th>\n",
       "      <td>1</td>\n",
       "      <td>2</td>\n",
       "      <td>3</td>\n",
       "    </tr>\n",
       "    <tr>\n",
       "      <th>1</th>\n",
       "      <td>44</td>\n",
       "      <td>5</td>\n",
       "      <td>3</td>\n",
       "    </tr>\n",
       "  </tbody>\n",
       "</table>\n",
       "</div>"
      ],
      "text/plain": [
       "    0  1  2\n",
       "0   1  2  3\n",
       "1  44  5  3"
      ]
     },
     "execution_count": 16,
     "metadata": {},
     "output_type": "execute_result"
    }
   ],
   "source": [
    "data"
   ]
  },
  {
   "cell_type": "markdown",
   "id": "0e701a02",
   "metadata": {},
   "source": [
    "## Creating Arrays"
   ]
  },
  {
   "cell_type": "code",
   "execution_count": 17,
   "id": "9b26d8bb",
   "metadata": {},
   "outputs": [
    {
     "data": {
      "text/plain": [
       "array([1, 2, 3])"
      ]
     },
     "execution_count": 17,
     "metadata": {},
     "output_type": "execute_result"
    }
   ],
   "source": [
    "sample_array = np.array([1,2,3])\n",
    "sample_array"
   ]
  },
  {
   "cell_type": "code",
   "execution_count": 18,
   "id": "5af449cf",
   "metadata": {},
   "outputs": [],
   "source": [
    "ones = np.ones((2,3))"
   ]
  },
  {
   "cell_type": "code",
   "execution_count": 19,
   "id": "44966fd5",
   "metadata": {},
   "outputs": [
    {
     "data": {
      "text/plain": [
       "array([[1., 1., 1.],\n",
       "       [1., 1., 1.]])"
      ]
     },
     "execution_count": 19,
     "metadata": {},
     "output_type": "execute_result"
    }
   ],
   "source": [
    "ones"
   ]
  },
  {
   "cell_type": "code",
   "execution_count": 20,
   "id": "b82e0e58",
   "metadata": {},
   "outputs": [],
   "source": [
    "ones_like = np.ones_like(sample_array) # This will take an array and will return the array of one's of same size and type"
   ]
  },
  {
   "cell_type": "code",
   "execution_count": 21,
   "id": "34eb6c6b",
   "metadata": {},
   "outputs": [
    {
     "data": {
      "text/plain": [
       "array([1, 1, 1])"
      ]
     },
     "execution_count": 21,
     "metadata": {},
     "output_type": "execute_result"
    }
   ],
   "source": [
    "ones_like"
   ]
  },
  {
   "cell_type": "code",
   "execution_count": 22,
   "id": "1766b017",
   "metadata": {},
   "outputs": [],
   "source": [
    "zeros = np.zeros((2,3))"
   ]
  },
  {
   "cell_type": "code",
   "execution_count": 23,
   "id": "0600a6f6",
   "metadata": {},
   "outputs": [
    {
     "data": {
      "text/plain": [
       "array([[0., 0., 0.],\n",
       "       [0., 0., 0.]])"
      ]
     },
     "execution_count": 23,
     "metadata": {},
     "output_type": "execute_result"
    }
   ],
   "source": [
    "zeros"
   ]
  },
  {
   "cell_type": "markdown",
   "id": "fd540c22",
   "metadata": {},
   "source": [
    "### Creating a Array of Range "
   ]
  },
  {
   "cell_type": "code",
   "execution_count": 24,
   "id": "ffcb26b5",
   "metadata": {},
   "outputs": [
    {
     "data": {
      "text/plain": [
       "array([ 0,  1,  2,  3,  4,  5,  6,  7,  8,  9, 10, 11, 12, 13, 14, 15, 16,\n",
       "       17, 18, 19])"
      ]
     },
     "execution_count": 24,
     "metadata": {},
     "output_type": "execute_result"
    }
   ],
   "source": [
    "#arange is same as range function in python\n",
    "rangeArr = np.arange(0,20)\n",
    "rangeArr"
   ]
  },
  {
   "cell_type": "code",
   "execution_count": 25,
   "id": "fe92120d",
   "metadata": {},
   "outputs": [
    {
     "data": {
      "text/plain": [
       "array([ 0,  2,  4,  6,  8, 10, 12, 14, 16, 18])"
      ]
     },
     "execution_count": 25,
     "metadata": {},
     "output_type": "execute_result"
    }
   ],
   "source": [
    "rangeArr_step2 = np.arange(0,20,2)\n",
    "rangeArr_step2"
   ]
  },
  {
   "cell_type": "markdown",
   "id": "26a5bdca",
   "metadata": {},
   "source": [
    "### Creating a Random Array"
   ]
  },
  {
   "cell_type": "code",
   "execution_count": 26,
   "id": "6791106b",
   "metadata": {},
   "outputs": [],
   "source": [
    "random_array = np.random.randint(0,10,size=(3,5)) #Always return int numbers"
   ]
  },
  {
   "cell_type": "code",
   "execution_count": 27,
   "id": "8d6e8e32",
   "metadata": {},
   "outputs": [
    {
     "data": {
      "text/plain": [
       "array([[8, 7, 4, 4, 7],\n",
       "       [3, 0, 8, 3, 0],\n",
       "       [5, 4, 9, 3, 4]])"
      ]
     },
     "execution_count": 27,
     "metadata": {},
     "output_type": "execute_result"
    }
   ],
   "source": [
    "random_array"
   ]
  },
  {
   "cell_type": "code",
   "execution_count": 28,
   "id": "adb9181e",
   "metadata": {},
   "outputs": [],
   "source": [
    "random_array_2 = np.random.rand(3,5) ##"
   ]
  },
  {
   "cell_type": "code",
   "execution_count": 29,
   "id": "0a2c06f0",
   "metadata": {},
   "outputs": [
    {
     "data": {
      "text/plain": [
       "array([[0.03677721, 0.78414185, 0.78462795, 0.72512349, 0.07145834],\n",
       "       [0.28835231, 0.7533052 , 0.38713843, 0.76226147, 0.81677108],\n",
       "       [0.00878091, 0.59973205, 0.49001266, 0.5034243 , 0.71116225]])"
      ]
     },
     "execution_count": 29,
     "metadata": {},
     "output_type": "execute_result"
    }
   ],
   "source": [
    "random_array_2"
   ]
  },
  {
   "cell_type": "markdown",
   "id": "611f2c7a",
   "metadata": {},
   "source": [
    "### The Numbers from random actually come from np.random.seed"
   ]
  },
  {
   "cell_type": "code",
   "execution_count": 30,
   "id": "29a4b656",
   "metadata": {},
   "outputs": [
    {
     "data": {
      "text/plain": [
       "array([ 8, 80, 77, 35, 81, 33, 70, 76, 56, 45])"
      ]
     },
     "execution_count": 30,
     "metadata": {},
     "output_type": "execute_result"
    }
   ],
   "source": [
    "randInt = np.random.randint(0,100,size=(10)) # This will always give random number because seed is random\n",
    "randInt"
   ]
  },
  {
   "cell_type": "code",
   "execution_count": 31,
   "id": "6cc4c511",
   "metadata": {},
   "outputs": [
    {
     "data": {
      "text/plain": [
       "array([ 9, 15, 64, 28, 89, 93, 29,  8, 73,  0])"
      ]
     },
     "execution_count": 31,
     "metadata": {},
     "output_type": "execute_result"
    }
   ],
   "source": [
    "np.random.seed(10)\n",
    "randInt_seed = np.random.randint(0,100,size=(10)) # This will always give same random number \n",
    "randInt_seed"
   ]
  },
  {
   "cell_type": "markdown",
   "id": "f4d41a7b",
   "metadata": {},
   "source": [
    "### Run Multiple time the cell above you will see the same result while the cell above random seed will give random number"
   ]
  },
  {
   "cell_type": "markdown",
   "id": "2bdd6e55",
   "metadata": {},
   "source": [
    "## Viewing Arrays and matrices"
   ]
  },
  {
   "cell_type": "markdown",
   "id": "eb5b6dd0",
   "metadata": {},
   "source": [
    "### Viewing the unique numbers from array"
   ]
  },
  {
   "cell_type": "code",
   "execution_count": 32,
   "id": "06161cb5",
   "metadata": {},
   "outputs": [
    {
     "data": {
      "text/plain": [
       "array([0.00878091, 0.03677721, 0.07145834, 0.28835231, 0.38713843,\n",
       "       0.49001266, 0.5034243 , 0.59973205, 0.71116225, 0.72512349,\n",
       "       0.7533052 , 0.76226147, 0.78414185, 0.78462795, 0.81677108])"
      ]
     },
     "execution_count": 32,
     "metadata": {},
     "output_type": "execute_result"
    }
   ],
   "source": [
    "np.unique(random_array_2)"
   ]
  },
  {
   "cell_type": "markdown",
   "id": "f1fed7d8",
   "metadata": {},
   "source": [
    "### Indexing is same as python list in Numpy\n"
   ]
  },
  {
   "cell_type": "code",
   "execution_count": 33,
   "id": "9d6dfb1e",
   "metadata": {},
   "outputs": [
    {
     "name": "stdout",
     "output_type": "stream",
     "text": [
      "[1 2 3]\n"
     ]
    },
    {
     "data": {
      "text/plain": [
       "2"
      ]
     },
     "execution_count": 33,
     "metadata": {},
     "output_type": "execute_result"
    }
   ],
   "source": [
    "print(a1)\n",
    "a1[1]"
   ]
  },
  {
   "cell_type": "markdown",
   "id": "5c3f9bd2",
   "metadata": {},
   "source": [
    "## Manipulating & comparing arrays"
   ]
  },
  {
   "cell_type": "markdown",
   "id": "f613672a",
   "metadata": {},
   "source": [
    "### Arithmetic"
   ]
  },
  {
   "cell_type": "code",
   "execution_count": 34,
   "id": "24dd474a",
   "metadata": {},
   "outputs": [
    {
     "data": {
      "text/plain": [
       "array([1, 2, 3])"
      ]
     },
     "execution_count": 34,
     "metadata": {},
     "output_type": "execute_result"
    }
   ],
   "source": [
    "a1"
   ]
  },
  {
   "cell_type": "code",
   "execution_count": 35,
   "id": "e03e55f0",
   "metadata": {},
   "outputs": [],
   "source": [
    "one = np.ones_like(a1)"
   ]
  },
  {
   "cell_type": "code",
   "execution_count": 36,
   "id": "f85a5d21",
   "metadata": {},
   "outputs": [
    {
     "data": {
      "text/plain": [
       "array([2, 3, 4])"
      ]
     },
     "execution_count": 36,
     "metadata": {},
     "output_type": "execute_result"
    }
   ],
   "source": [
    "a1 + one"
   ]
  },
  {
   "cell_type": "code",
   "execution_count": 37,
   "id": "5cee048c",
   "metadata": {},
   "outputs": [
    {
     "data": {
      "text/plain": [
       "array([0, 1, 2])"
      ]
     },
     "execution_count": 37,
     "metadata": {},
     "output_type": "execute_result"
    }
   ],
   "source": [
    "a1 - one"
   ]
  },
  {
   "cell_type": "code",
   "execution_count": 38,
   "id": "e8d46b53",
   "metadata": {},
   "outputs": [],
   "source": [
    "one = one * 2"
   ]
  },
  {
   "cell_type": "code",
   "execution_count": 39,
   "id": "fd2483c3",
   "metadata": {},
   "outputs": [
    {
     "data": {
      "text/plain": [
       "array([2, 2, 2])"
      ]
     },
     "execution_count": 39,
     "metadata": {},
     "output_type": "execute_result"
    }
   ],
   "source": [
    "one"
   ]
  },
  {
   "cell_type": "code",
   "execution_count": 40,
   "id": "9096e396",
   "metadata": {},
   "outputs": [
    {
     "data": {
      "text/plain": [
       "array([0.5, 1. , 1.5])"
      ]
     },
     "execution_count": 40,
     "metadata": {},
     "output_type": "execute_result"
    }
   ],
   "source": [
    "a1 / one"
   ]
  },
  {
   "cell_type": "code",
   "execution_count": 41,
   "id": "2f6f35bc",
   "metadata": {},
   "outputs": [
    {
     "data": {
      "text/plain": [
       "array([0, 1, 1])"
      ]
     },
     "execution_count": 41,
     "metadata": {},
     "output_type": "execute_result"
    }
   ],
   "source": [
    "a1 // one"
   ]
  },
  {
   "cell_type": "code",
   "execution_count": 42,
   "id": "daa94eb0",
   "metadata": {},
   "outputs": [
    {
     "data": {
      "text/plain": [
       "array([1, 4, 9])"
      ]
     },
     "execution_count": 42,
     "metadata": {},
     "output_type": "execute_result"
    }
   ],
   "source": [
    "a1 ** 2"
   ]
  },
  {
   "cell_type": "markdown",
   "id": "aebc00c5",
   "metadata": {},
   "source": [
    "### Aggregation"
   ]
  },
  {
   "cell_type": "code",
   "execution_count": 43,
   "id": "bc08288c",
   "metadata": {},
   "outputs": [
    {
     "data": {
      "text/plain": [
       "array([1, 2, 3])"
      ]
     },
     "execution_count": 43,
     "metadata": {},
     "output_type": "execute_result"
    }
   ],
   "source": [
    "a1"
   ]
  },
  {
   "cell_type": "code",
   "execution_count": 44,
   "id": "3239e02c",
   "metadata": {},
   "outputs": [
    {
     "data": {
      "text/plain": [
       "6"
      ]
     },
     "execution_count": 44,
     "metadata": {},
     "output_type": "execute_result"
    }
   ],
   "source": [
    "np.sum(a1) # 1+2+3 => 6"
   ]
  },
  {
   "cell_type": "markdown",
   "id": "e1c699a0",
   "metadata": {},
   "source": [
    "### Let's explore a linspace function which is often used to generate a data (mostly for ml tasks)"
   ]
  },
  {
   "cell_type": "code",
   "execution_count": 45,
   "id": "2a0ce7b5",
   "metadata": {},
   "outputs": [
    {
     "data": {
      "text/plain": [
       "array([ 1.,  2.,  3.,  4.,  5.,  6.,  7.,  8.,  9., 10.])"
      ]
     },
     "execution_count": 45,
     "metadata": {},
     "output_type": "execute_result"
    }
   ],
   "source": [
    "ten = np.linspace(1,10,num=10)\n",
    "ten"
   ]
  },
  {
   "cell_type": "code",
   "execution_count": 46,
   "id": "21a44301",
   "metadata": {},
   "outputs": [
    {
     "data": {
      "text/plain": [
       "55.0"
      ]
     },
     "execution_count": 46,
     "metadata": {},
     "output_type": "execute_result"
    }
   ],
   "source": [
    "sum(ten)"
   ]
  },
  {
   "cell_type": "markdown",
   "id": "39811ecb",
   "metadata": {},
   "source": [
    "### Let's create a 10000000 numbers of array"
   ]
  },
  {
   "cell_type": "code",
   "execution_count": 47,
   "id": "77da7853",
   "metadata": {},
   "outputs": [],
   "source": [
    "millions = np.linspace(1,10,num=10000000)"
   ]
  },
  {
   "cell_type": "code",
   "execution_count": 48,
   "id": "09cd7051",
   "metadata": {},
   "outputs": [
    {
     "data": {
      "text/plain": [
       "array([ 1.       ,  1.0000009,  1.0000018, ...,  9.9999982,  9.9999991,\n",
       "       10.       ])"
      ]
     },
     "execution_count": 48,
     "metadata": {},
     "output_type": "execute_result"
    }
   ],
   "source": [
    "millions"
   ]
  },
  {
   "cell_type": "code",
   "execution_count": 49,
   "id": "17b5e06e",
   "metadata": {},
   "outputs": [
    {
     "data": {
      "text/plain": [
       "10000000"
      ]
     },
     "execution_count": 49,
     "metadata": {},
     "output_type": "execute_result"
    }
   ],
   "source": [
    "millions.size"
   ]
  },
  {
   "cell_type": "markdown",
   "id": "0edf0021",
   "metadata": {},
   "source": [
    "### Let's explore the sum method and numpy.sum method"
   ]
  },
  {
   "cell_type": "code",
   "execution_count": 50,
   "id": "562586e1",
   "metadata": {},
   "outputs": [
    {
     "name": "stdout",
     "output_type": "stream",
     "text": [
      "801 ms ± 51.8 ms per loop (mean ± std. dev. of 7 runs, 1 loop each)\n"
     ]
    }
   ],
   "source": [
    "%timeit sum(millions)"
   ]
  },
  {
   "cell_type": "code",
   "execution_count": 51,
   "id": "7b810cde",
   "metadata": {},
   "outputs": [
    {
     "name": "stdout",
     "output_type": "stream",
     "text": [
      "5.25 ms ± 383 µs per loop (mean ± std. dev. of 7 runs, 100 loops each)\n"
     ]
    }
   ],
   "source": [
    "%timeit np.sum(millions)"
   ]
  },
  {
   "cell_type": "markdown",
   "id": "9e11c687",
   "metadata": {},
   "source": [
    "### As we can see how powerful numpy is. The same operation we performed with python sum function took way more time."
   ]
  },
  {
   "cell_type": "code",
   "execution_count": 52,
   "id": "f27b34b1",
   "metadata": {},
   "outputs": [
    {
     "data": {
      "text/plain": [
       "5.5"
      ]
     },
     "execution_count": 52,
     "metadata": {},
     "output_type": "execute_result"
    }
   ],
   "source": [
    "# mean \n",
    "np.mean(ten)"
   ]
  },
  {
   "cell_type": "markdown",
   "id": "b0471016",
   "metadata": {},
   "source": [
    "### Standard Deviation :A measure of how spread out data values are around the mean, defined as the square root of the variance."
   ]
  },
  {
   "cell_type": "code",
   "execution_count": 53,
   "id": "39275643",
   "metadata": {},
   "outputs": [
    {
     "data": {
      "text/plain": [
       "2.8722813232690143"
      ]
     },
     "execution_count": 53,
     "metadata": {},
     "output_type": "execute_result"
    }
   ],
   "source": [
    "# Standard deviation\n",
    "np.std(ten)"
   ]
  },
  {
   "cell_type": "markdown",
   "id": "ecb6b28b",
   "metadata": {},
   "source": [
    "### Variance\n",
    "In probability theory and statistics, variance is the expectation of the squared deviation of a random variable from its mean. Informally, it measures how far a set of numbers are spread out from their average value."
   ]
  },
  {
   "cell_type": "code",
   "execution_count": 54,
   "id": "084054cf",
   "metadata": {},
   "outputs": [
    {
     "data": {
      "text/plain": [
       "8.25"
      ]
     },
     "execution_count": 54,
     "metadata": {},
     "output_type": "execute_result"
    }
   ],
   "source": [
    "# Variance\n",
    "np.var(ten)"
   ]
  },
  {
   "cell_type": "markdown",
   "id": "8619e9d2",
   "metadata": {},
   "source": [
    "### One of the best article i found explaining standard deviation and variance is [here](https://www.mathsisfun.com/data/standard-deviation.html)"
   ]
  },
  {
   "cell_type": "markdown",
   "id": "c899ecb0",
   "metadata": {},
   "source": [
    "## Reshaping and Transposing"
   ]
  },
  {
   "cell_type": "code",
   "execution_count": 55,
   "id": "4ebafd08",
   "metadata": {},
   "outputs": [
    {
     "data": {
      "text/plain": [
       "(2, 3)"
      ]
     },
     "execution_count": 55,
     "metadata": {},
     "output_type": "execute_result"
    }
   ],
   "source": [
    "a2.shape"
   ]
  },
  {
   "cell_type": "code",
   "execution_count": 56,
   "id": "37a8923e",
   "metadata": {},
   "outputs": [
    {
     "data": {
      "text/plain": [
       "(2, 2, 3)"
      ]
     },
     "execution_count": 56,
     "metadata": {},
     "output_type": "execute_result"
    }
   ],
   "source": [
    "a3.shape"
   ]
  },
  {
   "cell_type": "markdown",
   "id": "4e1d2d79",
   "metadata": {},
   "source": [
    "### Broadcasting rules  according to numpy are\n",
    "\n",
    "#### BroadCasting\n",
    "The term broadcasting describes how numpy treats arrays with different shapes during arithmetic operations. Subject to certain constraints, the smaller array is “broadcast” across the larger array so that they have compatible shapes. \n",
    "\n",
    "#### General Broadcasting Rules¶\n",
    "\n",
    "When operating on two arrays, NumPy compares their shapes element-wise. It starts with the trailing (i.e. rightmost) dimensions and works its way left. Two dimensions are compatible when\n",
    " - they are equal, or\n",
    " - one of them is 1\n",
    "     \n",
    "     \n",
    "You can read more about broadcating [here](https://numpy.org/doc/stable/user/basics.broadcasting.html)\n"
   ]
  },
  {
   "cell_type": "markdown",
   "id": "23477d4d",
   "metadata": {},
   "source": [
    "### It hards to get let's see it in action"
   ]
  },
  {
   "cell_type": "code",
   "execution_count": 57,
   "id": "ab117410",
   "metadata": {},
   "outputs": [
    {
     "data": {
      "text/plain": [
       "(3,)"
      ]
     },
     "execution_count": 57,
     "metadata": {},
     "output_type": "execute_result"
    }
   ],
   "source": [
    "a1.shape"
   ]
  },
  {
   "cell_type": "code",
   "execution_count": 58,
   "id": "91d6e165",
   "metadata": {},
   "outputs": [
    {
     "data": {
      "text/plain": [
       "(2, 2, 3)"
      ]
     },
     "execution_count": 58,
     "metadata": {},
     "output_type": "execute_result"
    }
   ],
   "source": [
    "a3.shape"
   ]
  },
  {
   "cell_type": "code",
   "execution_count": 59,
   "id": "ddf9f16d",
   "metadata": {},
   "outputs": [
    {
     "data": {
      "text/plain": [
       "array([[[ 1,  4,  9],\n",
       "        [ 2,  6, 12]],\n",
       "\n",
       "       [[ 2,  6, 12],\n",
       "        [ 2,  6, 12]]])"
      ]
     },
     "execution_count": 59,
     "metadata": {},
     "output_type": "execute_result"
    }
   ],
   "source": [
    "# It works, because the dimension is one. Now let's see 2d by 3d\n",
    "a1 * a3"
   ]
  },
  {
   "cell_type": "code",
   "execution_count": 60,
   "id": "1eb3936a",
   "metadata": {},
   "outputs": [
    {
     "data": {
      "text/plain": [
       "(2, 3)"
      ]
     },
     "execution_count": 60,
     "metadata": {},
     "output_type": "execute_result"
    }
   ],
   "source": [
    "a2.shape"
   ]
  },
  {
   "cell_type": "code",
   "execution_count": 61,
   "id": "41a9b7a0",
   "metadata": {},
   "outputs": [
    {
     "data": {
      "text/plain": [
       "(2, 2, 3)"
      ]
     },
     "execution_count": 61,
     "metadata": {},
     "output_type": "execute_result"
    }
   ],
   "source": [
    "a3.shape"
   ]
  },
  {
   "cell_type": "code",
   "execution_count": 62,
   "id": "1f815712",
   "metadata": {},
   "outputs": [
    {
     "data": {
      "text/plain": [
       "array([[[ 1,  4,  9],\n",
       "        [88, 15, 12]],\n",
       "\n",
       "       [[ 2,  6, 12],\n",
       "        [88, 15, 12]]])"
      ]
     },
     "execution_count": 62,
     "metadata": {},
     "output_type": "execute_result"
    }
   ],
   "source": [
    "a2 * a3"
   ]
  },
  {
   "cell_type": "markdown",
   "id": "40435711",
   "metadata": {},
   "source": [
    "### What if we have an array of (2,3) and (2,3,1)"
   ]
  },
  {
   "cell_type": "code",
   "execution_count": 63,
   "id": "980bca3c",
   "metadata": {},
   "outputs": [],
   "source": [
    "rand3D = np.random.rand(2,3,1)"
   ]
  },
  {
   "cell_type": "code",
   "execution_count": 64,
   "id": "7ee0baf3",
   "metadata": {},
   "outputs": [
    {
     "data": {
      "text/plain": [
       "array([[[0.26360285],\n",
       "        [0.15037787],\n",
       "        [0.68381843]],\n",
       "\n",
       "       [[0.81660184],\n",
       "        [0.33607158],\n",
       "        [0.89081653]]])"
      ]
     },
     "execution_count": 64,
     "metadata": {},
     "output_type": "execute_result"
    }
   ],
   "source": [
    "rand3D"
   ]
  },
  {
   "cell_type": "code",
   "execution_count": 65,
   "id": "89e8fded",
   "metadata": {},
   "outputs": [
    {
     "data": {
      "text/plain": [
       "(2, 3, 1)"
      ]
     },
     "execution_count": 65,
     "metadata": {},
     "output_type": "execute_result"
    }
   ],
   "source": [
    "rand3D.shape"
   ]
  },
  {
   "cell_type": "code",
   "execution_count": 66,
   "id": "960e00cb",
   "metadata": {},
   "outputs": [
    {
     "data": {
      "text/plain": [
       "(2, 3)"
      ]
     },
     "execution_count": 66,
     "metadata": {},
     "output_type": "execute_result"
    }
   ],
   "source": [
    "a2.shape"
   ]
  },
  {
   "cell_type": "code",
   "execution_count": 67,
   "id": "3c9526e7",
   "metadata": {},
   "outputs": [
    {
     "ename": "ValueError",
     "evalue": "operands could not be broadcast together with shapes (2,3) (2,3,1) ",
     "output_type": "error",
     "traceback": [
      "\u001b[0;31m---------------------------------------------------------------------------\u001b[0m",
      "\u001b[0;31mValueError\u001b[0m                                Traceback (most recent call last)",
      "\u001b[0;32m<ipython-input-67-ed1d31488a77>\u001b[0m in \u001b[0;36m<module>\u001b[0;34m\u001b[0m\n\u001b[0;32m----> 1\u001b[0;31m \u001b[0ma2\u001b[0m \u001b[0;34m*\u001b[0m \u001b[0mrand3D\u001b[0m\u001b[0;34m\u001b[0m\u001b[0;34m\u001b[0m\u001b[0m\n\u001b[0m",
      "\u001b[0;31mValueError\u001b[0m: operands could not be broadcast together with shapes (2,3) (2,3,1) "
     ]
    }
   ],
   "source": [
    "a2 * rand3D"
   ]
  },
  {
   "cell_type": "code",
   "execution_count": 68,
   "id": "f183a9d9",
   "metadata": {},
   "outputs": [],
   "source": [
    "#### Now's Let see rand3D with (4)"
   ]
  },
  {
   "cell_type": "code",
   "execution_count": 69,
   "id": "5ee2cbe2",
   "metadata": {},
   "outputs": [],
   "source": [
    "randD = np.random.rand(4)"
   ]
  },
  {
   "cell_type": "code",
   "execution_count": 70,
   "id": "3e46aa20",
   "metadata": {},
   "outputs": [
    {
     "data": {
      "text/plain": [
       "array([0.19812181, 0.03061665, 0.87761494, 0.72743551])"
      ]
     },
     "execution_count": 70,
     "metadata": {},
     "output_type": "execute_result"
    }
   ],
   "source": [
    "randD"
   ]
  },
  {
   "cell_type": "code",
   "execution_count": 71,
   "id": "42f837b7",
   "metadata": {},
   "outputs": [
    {
     "data": {
      "text/plain": [
       "(4,)"
      ]
     },
     "execution_count": 71,
     "metadata": {},
     "output_type": "execute_result"
    }
   ],
   "source": [
    "randD.shape"
   ]
  },
  {
   "cell_type": "code",
   "execution_count": 72,
   "id": "ebb1ccd8",
   "metadata": {},
   "outputs": [
    {
     "data": {
      "text/plain": [
       "array([[[0.05222547, 0.00807064, 0.2313418 , 0.19175407],\n",
       "        [0.02979314, 0.00460407, 0.13197386, 0.1093902 ],\n",
       "        [0.13547935, 0.02093623, 0.60012927, 0.49743381]],\n",
       "\n",
       "       [[0.16178664, 0.02500162, 0.71666197, 0.59402518],\n",
       "        [0.06658311, 0.01028939, 0.29494144, 0.24447041],\n",
       "        [0.17649019, 0.02727382, 0.7817939 , 0.64801158]]])"
      ]
     },
     "execution_count": 72,
     "metadata": {},
     "output_type": "execute_result"
    }
   ],
   "source": [
    "randD * rand3D"
   ]
  },
  {
   "cell_type": "markdown",
   "id": "f5d7eeee",
   "metadata": {},
   "source": [
    "### Let's see some more example"
   ]
  },
  {
   "cell_type": "markdown",
   "id": "1008dc25",
   "metadata": {},
   "source": [
    "### Example 1\n",
    "\n",
    "|  Array       | Size   |\n",
    "| :---        | ---: |\n",
    "| A(4d array): | 8 x 1 x 6 x 1 |  \n",
    "| B(3d array): | 7 x 1 x 5 |   \n",
    "| Result (4d array):|8 x 7 x 6 x 5|   "
   ]
  },
  {
   "cell_type": "markdown",
   "id": "4e8c718d",
   "metadata": {},
   "source": [
    "If you want to see more example go to numpy offical [documentation](https://numpy.org/doc/stable/user/basics.broadcasting.html)"
   ]
  },
  {
   "cell_type": "markdown",
   "id": "4c0e5338",
   "metadata": {},
   "source": [
    "### Reshape the array"
   ]
  },
  {
   "cell_type": "code",
   "execution_count": 73,
   "id": "494ba382",
   "metadata": {},
   "outputs": [
    {
     "data": {
      "text/plain": [
       "(2, 3)"
      ]
     },
     "execution_count": 73,
     "metadata": {},
     "output_type": "execute_result"
    }
   ],
   "source": [
    "a2.shape"
   ]
  },
  {
   "cell_type": "code",
   "execution_count": 74,
   "id": "4d6d5300",
   "metadata": {},
   "outputs": [
    {
     "data": {
      "text/plain": [
       "(2, 3, 1)"
      ]
     },
     "execution_count": 74,
     "metadata": {},
     "output_type": "execute_result"
    }
   ],
   "source": [
    "rand3D.shape"
   ]
  },
  {
   "cell_type": "code",
   "execution_count": 75,
   "id": "2133c798",
   "metadata": {},
   "outputs": [],
   "source": [
    "a2 = a2.reshape(2,3,1)"
   ]
  },
  {
   "cell_type": "markdown",
   "id": "6c981b51",
   "metadata": {},
   "source": [
    "### Array a2 has been reshaped all the elements are same but the shape is changed now"
   ]
  },
  {
   "cell_type": "code",
   "execution_count": 76,
   "id": "b1540705",
   "metadata": {},
   "outputs": [
    {
     "data": {
      "text/plain": [
       "(2, 3, 1)"
      ]
     },
     "execution_count": 76,
     "metadata": {},
     "output_type": "execute_result"
    }
   ],
   "source": [
    "a2.shape"
   ]
  },
  {
   "cell_type": "markdown",
   "id": "e25cd809",
   "metadata": {},
   "source": [
    "### As the Array2 has been reshaped now we can multiple it with rand3D"
   ]
  },
  {
   "cell_type": "code",
   "execution_count": 77,
   "id": "629af50f",
   "metadata": {
    "scrolled": true
   },
   "outputs": [
    {
     "data": {
      "text/plain": [
       "array([[[ 0.26360285],\n",
       "        [ 0.30075573],\n",
       "        [ 2.05145529]],\n",
       "\n",
       "       [[35.93048075],\n",
       "        [ 1.68035792],\n",
       "        [ 2.67244959]]])"
      ]
     },
     "execution_count": 77,
     "metadata": {},
     "output_type": "execute_result"
    }
   ],
   "source": [
    "a2 * rand3D"
   ]
  },
  {
   "cell_type": "markdown",
   "id": "508030c9",
   "metadata": {},
   "source": [
    "## Transpose the matrix"
   ]
  },
  {
   "cell_type": "code",
   "execution_count": 78,
   "id": "121b2ec0",
   "metadata": {},
   "outputs": [
    {
     "data": {
      "text/plain": [
       "(2, 3, 1)"
      ]
     },
     "execution_count": 78,
     "metadata": {},
     "output_type": "execute_result"
    }
   ],
   "source": [
    "a2.shape"
   ]
  },
  {
   "cell_type": "code",
   "execution_count": 79,
   "id": "c7059bae",
   "metadata": {},
   "outputs": [
    {
     "data": {
      "text/plain": [
       "array([[[ 1, 44],\n",
       "        [ 2,  5],\n",
       "        [ 3,  3]]])"
      ]
     },
     "execution_count": 79,
     "metadata": {},
     "output_type": "execute_result"
    }
   ],
   "source": [
    "a2.T"
   ]
  },
  {
   "cell_type": "markdown",
   "id": "a7e8187a",
   "metadata": {},
   "source": [
    "### It's same as matrix transpose"
   ]
  },
  {
   "cell_type": "code",
   "execution_count": 80,
   "id": "74cab1e3",
   "metadata": {},
   "outputs": [
    {
     "data": {
      "text/plain": [
       "(1, 3, 2)"
      ]
     },
     "execution_count": 80,
     "metadata": {},
     "output_type": "execute_result"
    }
   ],
   "source": [
    "a2.T.shape"
   ]
  },
  {
   "cell_type": "markdown",
   "id": "ab143f4a",
   "metadata": {},
   "source": [
    "## dot Product of two array"
   ]
  },
  {
   "cell_type": "markdown",
   "id": "dc5e5500",
   "metadata": {},
   "source": [
    "![Dot Product vs. element-vise](https://external-content.duckduckgo.com/iu/?u=https%3A%2F%2Fi.ytimg.com%2Fvi%2Fd6lIaqQI0UE%2Fmaxresdefault.jpg&f=1&nofb=1)"
   ]
  },
  {
   "cell_type": "code",
   "execution_count": 81,
   "id": "12d88a48",
   "metadata": {},
   "outputs": [
    {
     "data": {
      "text/plain": [
       "array([[5, 0, 3],\n",
       "       [3, 7, 9],\n",
       "       [3, 5, 2],\n",
       "       [4, 7, 6],\n",
       "       [8, 8, 1]])"
      ]
     },
     "execution_count": 81,
     "metadata": {},
     "output_type": "execute_result"
    }
   ],
   "source": [
    "np.random.seed(0)\n",
    "arr1 = np.random.randint(10,size=(5,3))\n",
    "arr2 = np.random.randint(10,size=(3,5))\n",
    "arr1"
   ]
  },
  {
   "cell_type": "code",
   "execution_count": 82,
   "id": "3a9b6e71",
   "metadata": {},
   "outputs": [
    {
     "data": {
      "text/plain": [
       "array([[6, 7, 7, 8, 1],\n",
       "       [5, 9, 8, 9, 4],\n",
       "       [3, 0, 3, 5, 0]])"
      ]
     },
     "execution_count": 82,
     "metadata": {},
     "output_type": "execute_result"
    }
   ],
   "source": [
    "arr2"
   ]
  },
  {
   "cell_type": "code",
   "execution_count": 83,
   "id": "c2f723fd",
   "metadata": {},
   "outputs": [
    {
     "data": {
      "text/plain": [
       "((5, 3), (3, 5))"
      ]
     },
     "execution_count": 83,
     "metadata": {},
     "output_type": "execute_result"
    }
   ],
   "source": [
    "arr1.shape, arr2.shape"
   ]
  },
  {
   "cell_type": "code",
   "execution_count": 84,
   "id": "b7a960ee",
   "metadata": {},
   "outputs": [
    {
     "data": {
      "text/plain": [
       "array([[ 39,  35,  44,  55,   5],\n",
       "       [ 80,  84, 104, 132,  31],\n",
       "       [ 49,  66,  67,  79,  23],\n",
       "       [ 77,  91, 102, 125,  32],\n",
       "       [ 91, 128, 123, 141,  40]])"
      ]
     },
     "execution_count": 84,
     "metadata": {},
     "output_type": "execute_result"
    }
   ],
   "source": [
    "np.dot(arr1,arr2)"
   ]
  },
  {
   "cell_type": "markdown",
   "id": "e07838f5",
   "metadata": {},
   "source": [
    "### To explore more about dot product, check out this amazing [website](http://matrixmultiplication.xyz/)"
   ]
  },
  {
   "cell_type": "markdown",
   "id": "cbf5f1eb",
   "metadata": {},
   "source": [
    "## Comparison Operators"
   ]
  },
  {
   "cell_type": "code",
   "execution_count": 85,
   "id": "541ee3fb",
   "metadata": {},
   "outputs": [
    {
     "data": {
      "text/plain": [
       "array([1, 2, 3])"
      ]
     },
     "execution_count": 85,
     "metadata": {},
     "output_type": "execute_result"
    }
   ],
   "source": [
    "a1"
   ]
  },
  {
   "cell_type": "code",
   "execution_count": 86,
   "id": "318999a2",
   "metadata": {},
   "outputs": [
    {
     "data": {
      "text/plain": [
       "array([1, 2, 3])"
      ]
     },
     "execution_count": 86,
     "metadata": {},
     "output_type": "execute_result"
    }
   ],
   "source": [
    "a2[0][:].T[0]"
   ]
  },
  {
   "cell_type": "code",
   "execution_count": 87,
   "id": "6818b67a",
   "metadata": {},
   "outputs": [],
   "source": [
    "bool2 = a1 > a2[0][:].T[0]"
   ]
  },
  {
   "cell_type": "code",
   "execution_count": 88,
   "id": "dde1d84f",
   "metadata": {},
   "outputs": [
    {
     "data": {
      "text/plain": [
       "array([False, False, False])"
      ]
     },
     "execution_count": 88,
     "metadata": {},
     "output_type": "execute_result"
    }
   ],
   "source": [
    "bool2"
   ]
  },
  {
   "cell_type": "code",
   "execution_count": 89,
   "id": "9803b144",
   "metadata": {},
   "outputs": [],
   "source": [
    "bool1 = a1 == a2[0][:].T[0]"
   ]
  },
  {
   "cell_type": "code",
   "execution_count": 90,
   "id": "1a4e1d74",
   "metadata": {},
   "outputs": [
    {
     "data": {
      "text/plain": [
       "array([ True,  True,  True])"
      ]
     },
     "execution_count": 90,
     "metadata": {},
     "output_type": "execute_result"
    }
   ],
   "source": [
    "bool1"
   ]
  },
  {
   "cell_type": "markdown",
   "id": "cfae8a28",
   "metadata": {},
   "source": [
    "## Sorting Arrays"
   ]
  },
  {
   "cell_type": "code",
   "execution_count": 91,
   "id": "f086e8c3",
   "metadata": {},
   "outputs": [],
   "source": [
    "rand_arr = np.random.randint(10,size=(3,5))"
   ]
  },
  {
   "cell_type": "code",
   "execution_count": 92,
   "id": "a64230b2",
   "metadata": {},
   "outputs": [
    {
     "data": {
      "text/plain": [
       "array([[2, 3, 8, 1, 3],\n",
       "       [3, 3, 7, 0, 1],\n",
       "       [9, 9, 0, 4, 7]])"
      ]
     },
     "execution_count": 92,
     "metadata": {},
     "output_type": "execute_result"
    }
   ],
   "source": [
    "rand_arr"
   ]
  },
  {
   "cell_type": "code",
   "execution_count": 93,
   "id": "83261a14",
   "metadata": {},
   "outputs": [
    {
     "data": {
      "text/plain": [
       "(3, 5)"
      ]
     },
     "execution_count": 93,
     "metadata": {},
     "output_type": "execute_result"
    }
   ],
   "source": [
    "rand_arr.shape"
   ]
  },
  {
   "cell_type": "code",
   "execution_count": 94,
   "id": "f6dd4f0a",
   "metadata": {},
   "outputs": [
    {
     "data": {
      "text/plain": [
       "array([[1, 2, 3, 3, 8],\n",
       "       [0, 1, 3, 3, 7],\n",
       "       [0, 4, 7, 9, 9]])"
      ]
     },
     "execution_count": 94,
     "metadata": {},
     "output_type": "execute_result"
    }
   ],
   "source": [
    "np.sort(rand_arr)"
   ]
  },
  {
   "cell_type": "markdown",
   "id": "a5b10778",
   "metadata": {},
   "source": [
    "### Returns the indices that would sort an array."
   ]
  },
  {
   "cell_type": "code",
   "execution_count": 95,
   "id": "0a4e532d",
   "metadata": {},
   "outputs": [
    {
     "data": {
      "text/plain": [
       "array([[3, 0, 1, 4, 2],\n",
       "       [3, 4, 0, 1, 2],\n",
       "       [2, 3, 4, 0, 1]])"
      ]
     },
     "execution_count": 95,
     "metadata": {},
     "output_type": "execute_result"
    }
   ],
   "source": [
    "np.argsort(rand_arr)"
   ]
  },
  {
   "cell_type": "code",
   "execution_count": 96,
   "id": "5d7f0687",
   "metadata": {},
   "outputs": [],
   "source": [
    "a1.sort()"
   ]
  },
  {
   "cell_type": "code",
   "execution_count": 97,
   "id": "a9903081",
   "metadata": {},
   "outputs": [
    {
     "data": {
      "text/plain": [
       "array([1, 2, 3])"
      ]
     },
     "execution_count": 97,
     "metadata": {},
     "output_type": "execute_result"
    }
   ],
   "source": [
    "a1"
   ]
  },
  {
   "cell_type": "markdown",
   "id": "ec3a5ac7",
   "metadata": {},
   "source": [
    "### Return indices of the maximum values along the given axis."
   ]
  },
  {
   "cell_type": "code",
   "execution_count": 98,
   "id": "b62da5e3",
   "metadata": {},
   "outputs": [
    {
     "data": {
      "text/plain": [
       "2"
      ]
     },
     "execution_count": 98,
     "metadata": {},
     "output_type": "execute_result"
    }
   ],
   "source": [
    "a1.argmax()"
   ]
  },
  {
   "cell_type": "code",
   "execution_count": 99,
   "id": "31cf3a4a",
   "metadata": {},
   "outputs": [
    {
     "data": {
      "text/plain": [
       "2"
      ]
     },
     "execution_count": 99,
     "metadata": {},
     "output_type": "execute_result"
    }
   ],
   "source": [
    "np.argmax(a1)"
   ]
  },
  {
   "cell_type": "markdown",
   "id": "34606246",
   "metadata": {},
   "source": [
    "### Return indices of the minimum values along the given axis."
   ]
  },
  {
   "cell_type": "code",
   "execution_count": 100,
   "id": "29a61161",
   "metadata": {},
   "outputs": [
    {
     "data": {
      "text/plain": [
       "0"
      ]
     },
     "execution_count": 100,
     "metadata": {},
     "output_type": "execute_result"
    }
   ],
   "source": [
    "a1.argmin()"
   ]
  },
  {
   "cell_type": "code",
   "execution_count": 101,
   "id": "81a5a62b",
   "metadata": {},
   "outputs": [
    {
     "data": {
      "text/plain": [
       "0"
      ]
     },
     "execution_count": 101,
     "metadata": {},
     "output_type": "execute_result"
    }
   ],
   "source": [
    "np.argmin(a1)"
   ]
  },
  {
   "cell_type": "code",
   "execution_count": 102,
   "id": "28692b08",
   "metadata": {},
   "outputs": [
    {
     "data": {
      "text/plain": [
       "(2, 3, 1)"
      ]
     },
     "execution_count": 102,
     "metadata": {},
     "output_type": "execute_result"
    }
   ],
   "source": [
    "rand3D.shape"
   ]
  },
  {
   "cell_type": "code",
   "execution_count": 103,
   "id": "47ddf88a",
   "metadata": {},
   "outputs": [
    {
     "data": {
      "text/plain": [
       "array([[2],\n",
       "       [2]])"
      ]
     },
     "execution_count": 103,
     "metadata": {},
     "output_type": "execute_result"
    }
   ],
   "source": [
    "np.argmax(rand3D,axis=1)"
   ]
  },
  {
   "cell_type": "markdown",
   "id": "78069731",
   "metadata": {},
   "source": [
    "If you want to dig dive, you can use these resources\n",
    "\n",
    "- [The Basics of NumPy Arrays by Jake VanderPlas](https://jakevdp.github.io/PythonDataScienceHandbook/02.02-the-basics-of-numpy-arrays.html)\n",
    "- [A Visual Introduction to NumPy by Jay Alammar](https://jalammar.github.io/visual-numpy/)\n",
    "- [NumPy Quickstart tutorial (part of the NumPy documentation)](https://numpy.org/doc/1.17/user/quickstart.html)\n",
    "\n",
    "As always, remember the best way to learn a new coding concept is to write it yourself. If in doubt, run the code."
   ]
  },
  {
   "cell_type": "markdown",
   "id": "8b5af43f",
   "metadata": {},
   "source": [
    "## Practical Example - Turning image into numpy array"
   ]
  },
  {
   "cell_type": "code",
   "execution_count": 104,
   "id": "d690f095",
   "metadata": {},
   "outputs": [],
   "source": [
    "from matplotlib.image import imread"
   ]
  },
  {
   "cell_type": "code",
   "execution_count": 105,
   "id": "00ef92ee",
   "metadata": {},
   "outputs": [],
   "source": [
    "plane = imread('./airplane.jpg')"
   ]
  },
  {
   "cell_type": "code",
   "execution_count": 106,
   "id": "4878d47b",
   "metadata": {},
   "outputs": [
    {
     "data": {
      "text/plain": [
       "array([[[141, 151, 160],\n",
       "        [141, 151, 160],\n",
       "        [141, 151, 160],\n",
       "        ...,\n",
       "        [147, 154, 162],\n",
       "        [147, 154, 162],\n",
       "        [147, 154, 162]],\n",
       "\n",
       "       [[141, 151, 160],\n",
       "        [141, 151, 160],\n",
       "        [141, 151, 160],\n",
       "        ...,\n",
       "        [147, 154, 162],\n",
       "        [147, 154, 162],\n",
       "        [147, 154, 162]],\n",
       "\n",
       "       [[141, 151, 160],\n",
       "        [141, 151, 160],\n",
       "        [141, 151, 160],\n",
       "        ...,\n",
       "        [147, 154, 162],\n",
       "        [147, 154, 162],\n",
       "        [147, 154, 162]],\n",
       "\n",
       "       ...,\n",
       "\n",
       "       [[162, 149, 130],\n",
       "        [162, 149, 130],\n",
       "        [162, 149, 130],\n",
       "        ...,\n",
       "        [145, 136, 119],\n",
       "        [145, 136, 119],\n",
       "        [145, 136, 119]],\n",
       "\n",
       "       [[162, 149, 130],\n",
       "        [162, 149, 130],\n",
       "        [162, 149, 130],\n",
       "        ...,\n",
       "        [145, 136, 119],\n",
       "        [145, 136, 119],\n",
       "        [145, 136, 119]],\n",
       "\n",
       "       [[162, 149, 130],\n",
       "        [162, 149, 130],\n",
       "        [162, 149, 130],\n",
       "        ...,\n",
       "        [144, 135, 118],\n",
       "        [144, 135, 118],\n",
       "        [144, 135, 118]]], dtype=uint8)"
      ]
     },
     "execution_count": 106,
     "metadata": {},
     "output_type": "execute_result"
    }
   ],
   "source": [
    "plane"
   ]
  },
  {
   "cell_type": "code",
   "execution_count": 107,
   "id": "41428dba",
   "metadata": {},
   "outputs": [
    {
     "data": {
      "text/plain": [
       "(11520000, (1600, 2400, 3), 3)"
      ]
     },
     "execution_count": 107,
     "metadata": {},
     "output_type": "execute_result"
    }
   ],
   "source": [
    "plane.size, plane.shape, plane.ndim"
   ]
  },
  {
   "cell_type": "markdown",
   "id": "3d077eb6",
   "metadata": {},
   "source": [
    "## The dimension of image is 3 because 1 = height, 2 = width, 3 = RGB"
   ]
  },
  {
   "cell_type": "markdown",
   "id": "9fa37bc7",
   "metadata": {},
   "source": [
    "### Let's change some values and try to view the image back"
   ]
  },
  {
   "cell_type": "code",
   "execution_count": 108,
   "id": "bc2e175a",
   "metadata": {},
   "outputs": [],
   "source": [
    "img_1 = plane ** 2\n"
   ]
  },
  {
   "cell_type": "code",
   "execution_count": 109,
   "id": "f36225fa",
   "metadata": {},
   "outputs": [
    {
     "data": {
      "text/plain": [
       "array([[[169,  17,   0],\n",
       "        [169,  17,   0],\n",
       "        [169,  17,   0],\n",
       "        ...,\n",
       "        [105, 164, 132],\n",
       "        [105, 164, 132],\n",
       "        [105, 164, 132]],\n",
       "\n",
       "       [[169,  17,   0],\n",
       "        [169,  17,   0],\n",
       "        [169,  17,   0],\n",
       "        ...,\n",
       "        [105, 164, 132],\n",
       "        [105, 164, 132],\n",
       "        [105, 164, 132]],\n",
       "\n",
       "       [[169,  17,   0],\n",
       "        [169,  17,   0],\n",
       "        [169,  17,   0],\n",
       "        ...,\n",
       "        [105, 164, 132],\n",
       "        [105, 164, 132],\n",
       "        [105, 164, 132]],\n",
       "\n",
       "       ...,\n",
       "\n",
       "       [[132, 185,   4],\n",
       "        [132, 185,   4],\n",
       "        [132, 185,   4],\n",
       "        ...,\n",
       "        [ 33,  64,  81],\n",
       "        [ 33,  64,  81],\n",
       "        [ 33,  64,  81]],\n",
       "\n",
       "       [[132, 185,   4],\n",
       "        [132, 185,   4],\n",
       "        [132, 185,   4],\n",
       "        ...,\n",
       "        [ 33,  64,  81],\n",
       "        [ 33,  64,  81],\n",
       "        [ 33,  64,  81]],\n",
       "\n",
       "       [[132, 185,   4],\n",
       "        [132, 185,   4],\n",
       "        [132, 185,   4],\n",
       "        ...,\n",
       "        [  0,  49, 100],\n",
       "        [  0,  49, 100],\n",
       "        [  0,  49, 100]]], dtype=uint8)"
      ]
     },
     "execution_count": 109,
     "metadata": {},
     "output_type": "execute_result"
    }
   ],
   "source": [
    "img_1"
   ]
  },
  {
   "cell_type": "code",
   "execution_count": 110,
   "id": "e544e4cd",
   "metadata": {},
   "outputs": [],
   "source": [
    "from matplotlib import pyplot as plt"
   ]
  },
  {
   "cell_type": "code",
   "execution_count": 111,
   "id": "8f6ee2ea",
   "metadata": {},
   "outputs": [
    {
     "data": {
      "image/png": "[encoded data removed]",
      "text/plain": [
       "<Figure size 432x288 with 1 Axes>"
      ]
     },
     "metadata": {
      "needs_background": "light"
     },
     "output_type": "display_data"
    }
   ],
   "source": [
    "plt.imshow(img_1,interpolation='nearest')\n",
    "plt.show()"
   ]
  },
  {
   "cell_type": "code",
   "execution_count": 112,
   "id": "23441ae9",
   "metadata": {},
   "outputs": [
    {
     "data": {
      "image/png": "[encoded data removed]",
      "text/plain": [
       "<Figure size 432x288 with 1 Axes>"
      ]
     },
     "metadata": {
      "needs_background": "light"
     },
     "output_type": "display_data"
    }
   ],
   "source": [
    "plt.imshow(plane,interpolation='nearest')\n",
    "plt.show()"
   ]
  },
  {
   "cell_type": "code",
   "execution_count": 113,
   "id": "6d2648ee",
   "metadata": {},
   "outputs": [
    {
     "data": {
      "image/png": "[encoded data removed]",
      "text/plain": [
       "<Figure size 432x288 with 1 Axes>"
      ]
     },
     "metadata": {
      "needs_background": "light"
     },
     "output_type": "display_data"
    }
   ],
   "source": [
    "plt.imshow(plane[100:][400:800],interpolation='nearest')\n",
    "plt.show()"
   ]
  }
 ],
 "metadata": {
  "kernelspec": {
   "display_name": "Python 3",
   "language": "python",
   "name": "python3"
  },
  "language_info": {
   "codemirror_mode": {
    "name": "ipython",
    "version": 3
   },
   "file_extension": ".py",
   "mimetype": "text/x-python",
   "name": "python",
   "nbconvert_exporter": "python",
   "pygments_lexer": "ipython3",
   "version": "3.8.5"
  }
 },
 "nbformat": 4,
 "nbformat_minor": 5
}
